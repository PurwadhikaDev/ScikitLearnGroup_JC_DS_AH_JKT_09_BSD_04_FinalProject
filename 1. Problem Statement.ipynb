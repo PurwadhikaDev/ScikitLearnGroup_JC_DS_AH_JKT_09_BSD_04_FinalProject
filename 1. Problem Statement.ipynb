{
  "nbformat": 4,
  "nbformat_minor": 0,
  "metadata": {
    "colab": {
      "name": "Problem Statement.ipynb",
      "provenance": []
    },
    "kernelspec": {
      "name": "python3",
      "display_name": "Python 3"
    },
    "language_info": {
      "name": "python"
    }
  },
  "cells": [
    {
      "cell_type": "markdown",
      "metadata": {
        "id": "0tWMWKYf9xK7"
      },
      "source": [
        "# **Problem Statement**"
      ]
    },
    {
      "cell_type": "markdown",
      "metadata": {
        "id": "RhJ_AmH_9egD"
      },
      "source": [
        "It is essential for any businesses to understand their customers behaviour. Through that understanding, a business is able to effectively provide solutions for customers as products/services. Many businesses leverage this knowledge to gain an edge over the competition and try to come up with better offers to customers.\n",
        "\n",
        "Markets are now saturated with the sheer amount of companies that provide similar products & services. Competition is is tighter than it was in the past because of the reach that technology has provided companies. This exasperates the importance of customer understanding.\n",
        "\n",
        "The banking industry collects insurmountable amounts of customer purchasing data every single day. Often times it is very overwhelming to try and understand large sums of data. However, as mentioned above, it is crucial for any modern business (especially banks) to leverage the data to maximize the decision making process. This project will attempt to understand the given data by finding patterns within the dataset using Clustering methods from the art of Machine Learning. The impact of this analysis will give the user clarity about their current customers and help with the automation of classifying the potential of future incoming customers. This understanding will then translate into specified marketing strategies that could maximize the banks revenue generation."
      ]
    }
  ]
}