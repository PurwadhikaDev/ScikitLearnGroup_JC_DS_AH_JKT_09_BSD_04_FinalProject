{
  "nbformat": 4,
  "nbformat_minor": 0,
  "metadata": {
    "colab": {
      "name": "5. Conclusion and Recommendation.ipynb",
      "provenance": [],
      "collapsed_sections": []
    },
    "kernelspec": {
      "name": "python3",
      "display_name": "Python 3"
    },
    "language_info": {
      "name": "python"
    }
  },
  "cells": [
    {
      "cell_type": "markdown",
      "metadata": {
        "id": "P0oAploRyHEe"
      },
      "source": [
        "## **Goal**"
      ]
    },
    {
      "cell_type": "markdown",
      "metadata": {
        "id": "KMbB13_PyJGs"
      },
      "source": [
        "Based on Violin Plot that on Chapter 4, we can set the goal. The goal was to segment the customers in order to define a marketing strategy.\n",
        "\n",
        "*   **Cluster 0 : Using Installment Purchase Only** - They make expensive purchases using installment and their credit's balance is low. We can give them a promotions for cheap stuffs purchase using Credit Card (e.g: Buy 1 Get 1 Starbucks Promo)\n",
        "*   **Cluster 1 : Using Take Advance Cash Only** - This is the largest group among other clusters. Marketing strategy for this cluster is to increasing credit limit for Cash Advance & Cash Advance's interest reduction.\n",
        "*   **Cluster 2 : Using One Off Purchase Only** - They tend to make cheap purchases item using One Off Purchase. We can give them higher One Off credit limit to keep them using One Off Purchases.\n",
        "*   **Cluster 3 : Less Spenders but Not Using Installment Purchases** - Marketing strategy for this cluster is increase limit of cash advance and one off purchases. Otherwise, we can give 0% interest for every installment purchases.\n",
        "*   **Cluster 4 : Big Spenders but Not Using Cash Advance** - There are no treatment for this Cluster because this group of cluster using credit card very well.\n",
        "*   **Cluster 5 : Low Financial** - This appears to be a small group of customers that using installment and cash advance from credit card. There are no treatment for this cluster as well to decrease risk of late payments. \n",
        "*   **Cluster 6 : Highest Average Credit Limit with All Types of Purchases** - The best marketing strategy for this cluster is to give credit points for every time they make transaction using credit card.\n"
      ]
    },
    {
      "cell_type": "markdown",
      "metadata": {
        "id": "2onrWiakyNXa"
      },
      "source": [
        "## **Conclusion**"
      ]
    },
    {
      "cell_type": "markdown",
      "metadata": {
        "id": "vhUm81J-yPAj"
      },
      "source": [
        "Within the domain of Unsupervised Learning, especially in the context of Customer Segmentation, normalizing and standardizing the data will determine how the data will be plotted. Therefore it will determine how the clusters get formed. Along with the scaling methods, the modeling algorithm will affect clustering as well. Unsupervised learning finds patterns within unlabelled data. Due to the vague nature of unsupervised learning, the patters that are formed could make sense mathematically and still be misaligned with the the goal of said case study (in this case Credit Card Data). To solve this issue, the best way is to brute force it and analyze the results within every situation. Fortunately, the variables that we have to consider are realistic and manageable.\n",
        "\n",
        "To better understand the flow of our experiments we can summarize our process into a pipeline. \n",
        "\n",
        "1. Log the data\n",
        "2. Scale the data\n",
        "    - MinMax Scaler\n",
        "    - Robust Scaler\n",
        "    - Standard Scaler\n",
        "    - MaxAbs Scaler\n",
        "3. PCA\n",
        "4. Model the data\n",
        "    - K-Means \n",
        "    - DBSCAN\n",
        "    - K-Medoids\n",
        "\n",
        "Within steps 2 & 3 (Before Clustering) we aim to normalize & scale the data In a way where when we reduce its dimensionality the data’s variance is kept. What we will look at is the variance score of each scaling method of the top 3 PC from the PCA. \n",
        "\n",
        "Variance scores :\n",
        "\n",
        "1. RobustScaler = 91.3% \n",
        "2. MinMaxScaler = 81.5%\n",
        "3. StandardScaler = 67.5%\n",
        "4. MaxAbsScaler = 87.5%\n",
        "\n",
        "It is shown that the Robust scaler has the best variance score compared to the rest, looking at the scores we should use the robust scaler over the other three. The next stage of the experiment is to pair each scaler with the clustering algorithms (K-Means, DBSCAN, and K-Medoids). Despite the Robust Scalers variance score, during the final stage of clustering we found out that the combination between MinMaxScaler and DBSCAN resulted in clusters that makes sense within our use case.\n",
        "\n"
      ]
    },
    {
      "cell_type": "markdown",
      "metadata": {
        "id": "WfcSa_Z0wilc"
      },
      "source": [
        "## **Recommendation**"
      ]
    },
    {
      "cell_type": "markdown",
      "metadata": {
        "id": "xz7s4s12whov"
      },
      "source": [
        "To tie things up, it is important to understand the business results that could be gained from clustering the credit card data. Understanding your customers is at the heart of a successful marketing strategy, through clustering the business can now identify the distinct customer types that they have thus validating and aligning their strategy accordingly. Marketing often times is labelled as the backbone of companies within the 21st century, responsible for the business’s high revenues. Deploying this clustering model, will help the marketing department increase Business Revenues as well as overall customer satisfaction."
      ]
    }
  ]
}