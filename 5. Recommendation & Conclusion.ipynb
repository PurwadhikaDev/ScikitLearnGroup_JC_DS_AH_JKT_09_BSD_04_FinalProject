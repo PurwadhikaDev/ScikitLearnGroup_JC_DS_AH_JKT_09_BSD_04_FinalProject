{
  "nbformat": 4,
  "nbformat_minor": 0,
  "metadata": {
    "colab": {
      "name": "5. Recommendation & Conclusion.ipynb",
      "provenance": [],
      "collapsed_sections": []
    },
    "kernelspec": {
      "name": "python3",
      "display_name": "Python 3"
    },
    "language_info": {
      "name": "python"
    }
  },
  "cells": [
    {
      "cell_type": "markdown",
      "metadata": {
        "id": "WfcSa_Z0wilc"
      },
      "source": [
        "## **Recommendation**"
      ]
    },
    {
      "cell_type": "markdown",
      "metadata": {
        "id": "Vo_0iNZVGV-_"
      },
      "source": [
        "Based on the Violin Plot that is on Chapter 4, we can see the different type of customers within the dataset. Below we will propose potential strategies for each customer type.\n",
        "\n",
        "*   **Cluster 0 : Using Installment Purchase Only** - They make expensive purchases using installments and their credit's balance is low. We can give them promotions for cheap item purchases using their Credit Card (e.g: Buy 1 Get 1 Starbucks Promo). The idea of this promotion is to encourage more frequent purchases within their behavior, we hope that through the discounts we can improve this clusters retention and improve the consistency of revenue.\n",
        "\n",
        "*   **Cluster 1 : Using Cash Advances Only** - This is the largest group among the 6 clusters. The marketing strategy for this cluster is to increase their credit limit for Cash Advance & to reduce the cash advances interest. Through increasing the limit & reducing interest we will put ourselves in a position over our competitors since we have our users best interest. Again we hope to improve retention and frequency with this strategy. Since this is the largest group amongst the customer base, we must prioritize our strategies here. \n",
        "\n",
        "*   **Cluster 2 : Using One Off Purchase Only** - They tend to make cheap purchases using One Off Purchase. We can give them higher One Off credit limit to keep them using One Off Purchases.\n",
        "\n",
        "*   **Cluster 3 : Less Spenders but Not Using Installment Purchases** - Marketing strategy for this cluster is to increase the limit of cash advance and one off purchases. Every other purchase could be awarded with 0% interest for installment purchases. This would keep customers purchasing and chase the 0% interest reward.\n",
        "\n",
        "*   **Cluster 4 : Big Spenders but Not Using Cash Advance** - There are no treatments for this Cluster because this group is using credit card very well and likely to continue to do so. It is better to focus on users that uses cash advances so that we can gain interest.\n",
        "\n",
        "*   **Cluster 5 : Low Financial** - This appears to be a small group of customers that using installment and cash advance from credit card. It is best to not focus strategies to this cluster as well, mainly due to its small group size.\n",
        "\n",
        "*   **Cluster 6 : Highest Average Credit Limit with All Types of Purchases** - The best marketing strategy for this cluster is to give credit points for every time they make transaction using credit card. These points would incentivies the customers to be loyal to the bank and reduce churn rates. "
      ]
    },
    {
      "cell_type": "markdown",
      "metadata": {
        "id": "2onrWiakyNXa"
      },
      "source": [
        "## **Conclusion**"
      ]
    },
    {
      "cell_type": "markdown",
      "metadata": {
        "id": "vhUm81J-yPAj"
      },
      "source": [
        "Within the domain of Unsupervised Learning, especially in the context of Customer Segmentation, normalizing and standardizing the data will determine how the data will be plotted. Therefore it will determine how the clusters get formed. Along with the scaling methods, the modeling algorithm will affect clustering as well. Unsupervised learning finds patterns within unlabelled data. Due to the vague nature of unsupervised learning, the patters that are formed could make sense mathematically and still be misaligned with the the goal of said case study (in this case Credit Card Data). To solve this issue, the best way is to brute force it and analyze the results within every situation. Fortunately, the variables that we have to consider are realistic and manageable.\n",
        "\n",
        "To better understand the flow of our experiments we can summarize our process into a pipeline. \n",
        "\n",
        "1. Log the data\n",
        "2. Scale the data\n",
        "    - MinMax Scaler\n",
        "    - Robust Scaler\n",
        "    - Standard Scaler\n",
        "    - MaxAbs Scaler\n",
        "3. PCA\n",
        "4. Model the data\n",
        "    - K-Means \n",
        "    - DBSCAN\n",
        "    - K-Medoids\n",
        "\n",
        "Within steps 2 & 3 (Before Clustering) we aim to normalize & scale the data In a way where when we reduce its dimensionality the data’s variance is kept. What we will look at is the variance score of each scaling method of the top 3 PC from the PCA. \n",
        "\n",
        "Variance scores :\n",
        "\n",
        "1. RobustScaler = 91.3% \n",
        "2. MinMaxScaler = 81.5%\n",
        "3. StandardScaler = 67.5%\n",
        "4. MaxAbsScaler = 87.5%\n",
        "\n",
        "It is shown that the Robust scaler has the best variance score compared to the rest, looking at the scores we should use the robust scaler over the other three. The next stage of the experiment is to pair each scaler with the clustering algorithms (K-Means, DBSCAN, and K-Medoids). Despite the Robust Scalers variance score, during the final stage of clustering we found out that the combination between MinMaxScaler and DBSCAN resulted in clusters that makes sense within our use case.\n",
        "\n",
        "To tie things up, it is more important to understand the business results that could be gained from clustering the credit card data. Understanding your customers is at the heart of a successful marketing strategy, through clustering the business can now identify the distinct customer types that they have thus validating and aligning their strategy accordingly. Marketing often times is labelled as the backbone of companies within the 21st century, responsible for the business’s high revenues. Deploying this clustering model, will help the marketing department increase Business Revenues as well as overall customer satisfaction.\n",
        "\n"
      ]
    }
  ]
}